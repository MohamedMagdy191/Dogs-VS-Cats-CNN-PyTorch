{
 "cells": [
  {
   "cell_type": "markdown",
   "id": "601c21d6",
   "metadata": {
    "papermill": {
     "duration": 0.005995,
     "end_time": "2023-06-12T13:58:31.030439",
     "exception": false,
     "start_time": "2023-06-12T13:58:31.024444",
     "status": "completed"
    },
    "tags": []
   },
   "source": [
    "# Importing Libraries"
   ]
  },
  {
   "cell_type": "code",
   "execution_count": 1,
   "id": "5d17ffe6",
   "metadata": {
    "execution": {
     "iopub.execute_input": "2023-06-12T13:58:31.043523Z",
     "iopub.status.busy": "2023-06-12T13:58:31.042776Z",
     "iopub.status.idle": "2023-06-12T13:58:34.287225Z",
     "shell.execute_reply": "2023-06-12T13:58:34.286264Z"
    },
    "papermill": {
     "duration": 3.253628,
     "end_time": "2023-06-12T13:58:34.289621",
     "exception": false,
     "start_time": "2023-06-12T13:58:31.035993",
     "status": "completed"
    },
    "tags": []
   },
   "outputs": [],
   "source": [
    "import numpy as np \n",
    "import pandas as pd\n",
    "\n",
    "import zipfile\n",
    "import os\n",
    "import shutil\n",
    "\n",
    "import random\n",
    "\n",
    "\n",
    "import torch\n",
    "from torchvision import datasets, transforms\n",
    "from torchvision.datasets import ImageFolder\n",
    "import torchvision.transforms as T\n",
    "from torchvision.models import resnet18 ,ResNet18_Weights\n",
    "from torch import nn \n",
    "from torch.optim import SGD ,lr_scheduler\n",
    "import torch.cuda\n",
    "\n",
    "import time\n",
    "from torch.autograd import Variable"
   ]
  },
  {
   "cell_type": "code",
   "execution_count": 2,
   "id": "3b58fe6e",
   "metadata": {
    "execution": {
     "iopub.execute_input": "2023-06-12T13:58:34.303920Z",
     "iopub.status.busy": "2023-06-12T13:58:34.302075Z",
     "iopub.status.idle": "2023-06-12T13:58:34.355007Z",
     "shell.execute_reply": "2023-06-12T13:58:34.354134Z"
    },
    "papermill": {
     "duration": 0.06173,
     "end_time": "2023-06-12T13:58:34.357129",
     "exception": false,
     "start_time": "2023-06-12T13:58:34.295399",
     "status": "completed"
    },
    "tags": []
   },
   "outputs": [
    {
     "data": {
      "text/plain": [
       "device(type='cuda')"
      ]
     },
     "execution_count": 2,
     "metadata": {},
     "output_type": "execute_result"
    }
   ],
   "source": [
    "device = 'cuda' if torch.cuda.is_available() else 'cpu'\n",
    "torch.device(device)"
   ]
  },
  {
   "cell_type": "markdown",
   "id": "0d4a1444",
   "metadata": {
    "papermill": {
     "duration": 0.005503,
     "end_time": "2023-06-12T13:58:34.368216",
     "exception": false,
     "start_time": "2023-06-12T13:58:34.362713",
     "status": "completed"
    },
    "tags": []
   },
   "source": [
    "# Data Preparation "
   ]
  },
  {
   "cell_type": "code",
   "execution_count": 3,
   "id": "97d1dd00",
   "metadata": {
    "execution": {
     "iopub.execute_input": "2023-06-12T13:58:34.381168Z",
     "iopub.status.busy": "2023-06-12T13:58:34.380303Z",
     "iopub.status.idle": "2023-06-12T13:58:45.804986Z",
     "shell.execute_reply": "2023-06-12T13:58:45.803918Z"
    },
    "papermill": {
     "duration": 11.433928,
     "end_time": "2023-06-12T13:58:45.807614",
     "exception": false,
     "start_time": "2023-06-12T13:58:34.373686",
     "status": "completed"
    },
    "tags": []
   },
   "outputs": [],
   "source": [
    "# setting file paths\n",
    "train_zip_path = \"/kaggle/input/dogs-vs-cats/train.zip\"\n",
    "train_images_path = \"/kaggle/working/training/\"\n",
    "\n",
    "# creating training directory\n",
    "os.makedirs(train_images_path, exist_ok=True)\n",
    "\n",
    "# unzipping files to train folder\n",
    "\n",
    "with zipfile.ZipFile(train_zip_path) as zip_f:\n",
    "    zip_f.extractall(train_images_path)\n",
    "    \n",
    "#creating folder for Training \n",
    "os.makedirs(\"/kaggle/working/training/Train/\", exist_ok=True)\n",
    "#creating folder for Validation \n",
    "os.makedirs(\"/kaggle/working/training/Valid/\", exist_ok=True)"
   ]
  },
  {
   "cell_type": "code",
   "execution_count": 4,
   "id": "8a7e5210",
   "metadata": {
    "execution": {
     "iopub.execute_input": "2023-06-12T13:58:45.821548Z",
     "iopub.status.busy": "2023-06-12T13:58:45.820056Z",
     "iopub.status.idle": "2023-06-12T13:58:46.448041Z",
     "shell.execute_reply": "2023-06-12T13:58:46.447019Z"
    },
    "papermill": {
     "duration": 0.636893,
     "end_time": "2023-06-12T13:58:46.450417",
     "exception": false,
     "start_time": "2023-06-12T13:58:45.813524",
     "status": "completed"
    },
    "tags": []
   },
   "outputs": [],
   "source": [
    "images = os.listdir(\"training/train\")\n",
    "L = len(images)\n",
    "# creating directories for each class\n",
    "os.makedirs(\"training/Train/cat\", exist_ok=True)\n",
    "os.makedirs(\"training/Train/dog\", exist_ok=True)\n",
    "\n",
    "\n",
    "\n",
    "for i, file in enumerate(images):\n",
    "    # getting category\n",
    "    dir_name = file.split(\".\")[0].lower()\n",
    "    \n",
    "    # copying to correct folder\n",
    "    os.rename(f\"/kaggle/working/training/train/{file}\",\n",
    "              f\"/kaggle/working/training/Train/{dir_name}/{file}\")"
   ]
  },
  {
   "cell_type": "code",
   "execution_count": 5,
   "id": "c60a9d18",
   "metadata": {
    "execution": {
     "iopub.execute_input": "2023-06-12T13:58:46.463845Z",
     "iopub.status.busy": "2023-06-12T13:58:46.463028Z",
     "iopub.status.idle": "2023-06-12T13:58:46.468668Z",
     "shell.execute_reply": "2023-06-12T13:58:46.467846Z"
    },
    "papermill": {
     "duration": 0.01446,
     "end_time": "2023-06-12T13:58:46.470783",
     "exception": false,
     "start_time": "2023-06-12T13:58:46.456323",
     "status": "completed"
    },
    "tags": []
   },
   "outputs": [],
   "source": [
    "#deleting the old train folder\n",
    "shutil.rmtree(\"/kaggle/working/training/train\")"
   ]
  },
  {
   "cell_type": "code",
   "execution_count": 6,
   "id": "d36f031f",
   "metadata": {
    "execution": {
     "iopub.execute_input": "2023-06-12T13:58:46.483117Z",
     "iopub.status.busy": "2023-06-12T13:58:46.482836Z",
     "iopub.status.idle": "2023-06-12T13:58:46.487504Z",
     "shell.execute_reply": "2023-06-12T13:58:46.486532Z"
    },
    "papermill": {
     "duration": 0.013447,
     "end_time": "2023-06-12T13:58:46.489890",
     "exception": false,
     "start_time": "2023-06-12T13:58:46.476443",
     "status": "completed"
    },
    "tags": []
   },
   "outputs": [],
   "source": [
    "#creating dog & cat folders in Valid folder\n",
    "os.makedirs(\"training/Valid/cat\", exist_ok=True)\n",
    "os.makedirs(\"training/Valid/dog\", exist_ok=True)"
   ]
  },
  {
   "cell_type": "code",
   "execution_count": 7,
   "id": "5788679c",
   "metadata": {
    "execution": {
     "iopub.execute_input": "2023-06-12T13:58:46.501943Z",
     "iopub.status.busy": "2023-06-12T13:58:46.501647Z",
     "iopub.status.idle": "2023-06-12T13:58:46.759063Z",
     "shell.execute_reply": "2023-06-12T13:58:46.758090Z"
    },
    "papermill": {
     "duration": 0.266129,
     "end_time": "2023-06-12T13:58:46.761441",
     "exception": false,
     "start_time": "2023-06-12T13:58:46.495312",
     "status": "completed"
    },
    "tags": []
   },
   "outputs": [],
   "source": [
    "source_dog = 'training/Train/dog'\n",
    "source_cat = 'training/Train/cat'\n",
    "dest_dog = 'training/Valid/dog'\n",
    "dest_cat = 'training/Valid/cat'\n",
    "files_dog = os.listdir(source_dog)\n",
    "files_cat = os.listdir(source_cat)\n",
    "no_of_files_dog = int(len(files_dog) // 5)\n",
    "no_of_files_cat = int(len(files_dog) // 5)\n",
    "\n",
    "for file_name in random.sample(files_dog, no_of_files_dog):\n",
    "    shutil.move(os.path.join(source_dog, file_name), dest_dog)\n",
    "    \n",
    "for file_name in random.sample(files_cat, no_of_files_cat):\n",
    "    shutil.move(os.path.join(source_cat, file_name), dest_cat)"
   ]
  },
  {
   "cell_type": "code",
   "execution_count": 8,
   "id": "1db24e3f",
   "metadata": {
    "execution": {
     "iopub.execute_input": "2023-06-12T13:58:46.775430Z",
     "iopub.status.busy": "2023-06-12T13:58:46.773888Z",
     "iopub.status.idle": "2023-06-12T13:58:46.780387Z",
     "shell.execute_reply": "2023-06-12T13:58:46.779385Z"
    },
    "papermill": {
     "duration": 0.015055,
     "end_time": "2023-06-12T13:58:46.782371",
     "exception": false,
     "start_time": "2023-06-12T13:58:46.767316",
     "status": "completed"
    },
    "tags": []
   },
   "outputs": [],
   "source": [
    "simple_transform = T.Compose([T.Resize((224,224)) , T.ToTensor(), \n",
    "                              T.Normalize([0.485,0.456,0.406],[0.229,0.224,0.225])])"
   ]
  },
  {
   "cell_type": "code",
   "execution_count": 9,
   "id": "9605f2bf",
   "metadata": {
    "execution": {
     "iopub.execute_input": "2023-06-12T13:58:46.794896Z",
     "iopub.status.busy": "2023-06-12T13:58:46.794583Z",
     "iopub.status.idle": "2023-06-12T13:58:46.912062Z",
     "shell.execute_reply": "2023-06-12T13:58:46.910973Z"
    },
    "papermill": {
     "duration": 0.126522,
     "end_time": "2023-06-12T13:58:46.914722",
     "exception": false,
     "start_time": "2023-06-12T13:58:46.788200",
     "status": "completed"
    },
    "tags": []
   },
   "outputs": [
    {
     "data": {
      "text/plain": [
       "{'cat': 0, 'dog': 1}"
      ]
     },
     "execution_count": 9,
     "metadata": {},
     "output_type": "execute_result"
    }
   ],
   "source": [
    "train_image = ImageFolder(\"/kaggle/working/training/Train/\",simple_transform)\n",
    "valid_image = ImageFolder(\"/kaggle/working/training/Valid/\",simple_transform)\n",
    "\n",
    "train_image.class_to_idx"
   ]
  },
  {
   "cell_type": "code",
   "execution_count": 10,
   "id": "66ab7a57",
   "metadata": {
    "execution": {
     "iopub.execute_input": "2023-06-12T13:58:46.927476Z",
     "iopub.status.busy": "2023-06-12T13:58:46.927176Z",
     "iopub.status.idle": "2023-06-12T13:58:46.932804Z",
     "shell.execute_reply": "2023-06-12T13:58:46.931965Z"
    },
    "papermill": {
     "duration": 0.014142,
     "end_time": "2023-06-12T13:58:46.934706",
     "exception": false,
     "start_time": "2023-06-12T13:58:46.920564",
     "status": "completed"
    },
    "tags": []
   },
   "outputs": [
    {
     "data": {
      "text/plain": [
       "Dataset ImageFolder\n",
       "    Number of datapoints: 20000\n",
       "    Root location: /kaggle/working/training/Train/\n",
       "    StandardTransform\n",
       "Transform: Compose(\n",
       "               Resize(size=(224, 224), interpolation=bilinear, max_size=None, antialias=warn)\n",
       "               ToTensor()\n",
       "               Normalize(mean=[0.485, 0.456, 0.406], std=[0.229, 0.224, 0.225])\n",
       "           )"
      ]
     },
     "execution_count": 10,
     "metadata": {},
     "output_type": "execute_result"
    }
   ],
   "source": [
    "train_image"
   ]
  },
  {
   "cell_type": "code",
   "execution_count": 11,
   "id": "4883eecd",
   "metadata": {
    "execution": {
     "iopub.execute_input": "2023-06-12T13:58:46.947933Z",
     "iopub.status.busy": "2023-06-12T13:58:46.947092Z",
     "iopub.status.idle": "2023-06-12T13:58:46.954384Z",
     "shell.execute_reply": "2023-06-12T13:58:46.953322Z"
    },
    "papermill": {
     "duration": 0.017019,
     "end_time": "2023-06-12T13:58:46.957307",
     "exception": false,
     "start_time": "2023-06-12T13:58:46.940288",
     "status": "completed"
    },
    "tags": []
   },
   "outputs": [
    {
     "name": "stdout",
     "output_type": "stream",
     "text": [
      "{'training': 20000, 'validation': 5000}\n"
     ]
    }
   ],
   "source": [
    "train_dataloader = torch.utils.data.DataLoader(\n",
    "    train_image,batch_size = 32 ,num_workers = 2, shuffle = True)\n",
    "\n",
    "valid_dataloader = torch.utils.data.DataLoader(\n",
    "    valid_image,batch_size = 32 ,num_workers = 2, shuffle = False)\n",
    "\n",
    "dataloaders = {'training':train_dataloader,'validation':valid_dataloader}\n",
    "dataset_sizes = {'training':len(train_dataloader.dataset),'validation':len(valid_dataloader.dataset)}\n",
    "print(dataset_sizes)"
   ]
  },
  {
   "cell_type": "code",
   "execution_count": 12,
   "id": "95958ca6",
   "metadata": {
    "execution": {
     "iopub.execute_input": "2023-06-12T13:58:46.969979Z",
     "iopub.status.busy": "2023-06-12T13:58:46.969680Z",
     "iopub.status.idle": "2023-06-12T13:58:46.977256Z",
     "shell.execute_reply": "2023-06-12T13:58:46.976413Z"
    },
    "papermill": {
     "duration": 0.016225,
     "end_time": "2023-06-12T13:58:46.979221",
     "exception": false,
     "start_time": "2023-06-12T13:58:46.962996",
     "status": "completed"
    },
    "tags": []
   },
   "outputs": [
    {
     "data": {
      "text/plain": [
       "True"
      ]
     },
     "execution_count": 12,
     "metadata": {},
     "output_type": "execute_result"
    }
   ],
   "source": [
    "torch.cuda.is_available()"
   ]
  },
  {
   "cell_type": "markdown",
   "id": "e8b98c01",
   "metadata": {
    "papermill": {
     "duration": 0.005819,
     "end_time": "2023-06-12T13:58:46.990850",
     "exception": false,
     "start_time": "2023-06-12T13:58:46.985031",
     "status": "completed"
    },
    "tags": []
   },
   "source": [
    "# Model Creating"
   ]
  },
  {
   "cell_type": "code",
   "execution_count": 13,
   "id": "86398add",
   "metadata": {
    "execution": {
     "iopub.execute_input": "2023-06-12T13:58:47.004632Z",
     "iopub.status.busy": "2023-06-12T13:58:47.003284Z",
     "iopub.status.idle": "2023-06-12T13:58:50.514805Z",
     "shell.execute_reply": "2023-06-12T13:58:50.513804Z"
    },
    "papermill": {
     "duration": 3.520935,
     "end_time": "2023-06-12T13:58:50.517559",
     "exception": false,
     "start_time": "2023-06-12T13:58:46.996624",
     "status": "completed"
    },
    "tags": []
   },
   "outputs": [
    {
     "name": "stderr",
     "output_type": "stream",
     "text": [
      "/opt/conda/lib/python3.10/site-packages/torchvision/models/_utils.py:135: UserWarning: Using 'weights' as positional parameter(s) is deprecated since 0.13 and may be removed in the future. Please use keyword parameter(s) instead.\n",
      "  warnings.warn(\n",
      "/opt/conda/lib/python3.10/site-packages/torchvision/models/_utils.py:223: UserWarning: Arguments other than a weight enum or `None` for 'weights' are deprecated since 0.13 and may be removed in the future. The current behavior is equivalent to passing `weights=ResNet18_Weights.IMAGENET1K_V1`. You can also use `weights=ResNet18_Weights.DEFAULT` to get the most up-to-date weights.\n",
      "  warnings.warn(msg)\n",
      "Downloading: \"https://download.pytorch.org/models/resnet18-f37072fd.pth\" to /root/.cache/torch/hub/checkpoints/resnet18-f37072fd.pth\n",
      "100%|██████████| 44.7M/44.7M [00:00<00:00, 83.7MB/s]\n"
     ]
    }
   ],
   "source": [
    "model = resnet18(ResNet18_Weights)\n",
    "num_features = model.fc.in_features\n",
    "model.fc = nn.Linear(num_features,2)\n",
    "\n",
    "if device:\n",
    "    model = model.cuda()"
   ]
  },
  {
   "cell_type": "code",
   "execution_count": 14,
   "id": "dc7a6bb5",
   "metadata": {
    "execution": {
     "iopub.execute_input": "2023-06-12T13:58:50.532894Z",
     "iopub.status.busy": "2023-06-12T13:58:50.532559Z",
     "iopub.status.idle": "2023-06-12T13:58:50.538217Z",
     "shell.execute_reply": "2023-06-12T13:58:50.537201Z"
    },
    "papermill": {
     "duration": 0.015943,
     "end_time": "2023-06-12T13:58:50.540644",
     "exception": false,
     "start_time": "2023-06-12T13:58:50.524701",
     "status": "completed"
    },
    "tags": []
   },
   "outputs": [],
   "source": [
    "#loss and optimizer\n",
    "LR = 0.001\n",
    "\n",
    "criterion = nn.CrossEntropyLoss()\n",
    "\n",
    "optimizer = SGD(model.parameters(), lr=LR, momentum=0.9)\n",
    "exp_LR_scheduler = lr_scheduler.StepLR(optimizer,step_size=7,gamma=0.1) \n",
    "#StepLR: function helps in dynamically changing the learningrate."
   ]
  },
  {
   "cell_type": "markdown",
   "id": "73a26aeb",
   "metadata": {
    "papermill": {
     "duration": 0.006473,
     "end_time": "2023-06-12T13:58:50.553818",
     "exception": false,
     "start_time": "2023-06-12T13:58:50.547345",
     "status": "completed"
    },
    "tags": []
   },
   "source": [
    "# Training the model"
   ]
  },
  {
   "cell_type": "code",
   "execution_count": 15,
   "id": "84e9e497",
   "metadata": {
    "execution": {
     "iopub.execute_input": "2023-06-12T13:58:50.569618Z",
     "iopub.status.busy": "2023-06-12T13:58:50.568771Z",
     "iopub.status.idle": "2023-06-12T13:58:50.581622Z",
     "shell.execute_reply": "2023-06-12T13:58:50.580695Z"
    },
    "papermill": {
     "duration": 0.023217,
     "end_time": "2023-06-12T13:58:50.583713",
     "exception": false,
     "start_time": "2023-06-12T13:58:50.560496",
     "status": "completed"
    },
    "tags": []
   },
   "outputs": [],
   "source": [
    "def train_model(model,criterion,optimizer,scheduler,num_epochs=6):\n",
    "    since = time.time()\n",
    "    \n",
    "    best_model_weights = model.state_dict()\n",
    "    best_acc = 0.0\n",
    "    \n",
    "    for epoch in range(num_epochs):\n",
    "        print(\"epoch {}/{}\".format(epoch+1,num_epochs))\n",
    "        print(\"*\" * 10)\n",
    "        \n",
    "        #training and validation for each epoch\n",
    "        for x in ['training','validation']:\n",
    "            if x == 'training':\n",
    "                model.train()\n",
    "            else: \n",
    "                model.eval()\n",
    "            \n",
    "            running_loss = 0.0\n",
    "            running_corrects = 0\n",
    "            \n",
    "            #iterating over data\n",
    "            for data in dataloaders[x]:\n",
    "                # get the inputs\n",
    "                inputs, labels = data\n",
    "\n",
    "                # wrap them in Variable\n",
    "                if torch.cuda.is_available():\n",
    "                    inputs = Variable(inputs.cuda())\n",
    "                    labels = Variable(labels.cuda())\n",
    "                else:\n",
    "                    inputs, labels = Variable(inputs), Variable(labels)\n",
    "                    \n",
    "                # zero the parameter gradients\n",
    "                optimizer.zero_grad()\n",
    "                \n",
    "                # forward\n",
    "                outputs = model(inputs)\n",
    "\n",
    "                _, preds = torch.max(outputs.data, 1)\n",
    "                \n",
    "                loss = criterion(outputs, labels)\n",
    "\n",
    "                # backward + optimize only if in training phase\n",
    "                if x == 'training':\n",
    "                    loss.backward()\n",
    "                    optimizer.step()\n",
    "                    \n",
    "                \n",
    "                # statistics\n",
    "                running_loss += loss.data\n",
    "                running_corrects += torch.sum(preds == labels.data)\n",
    "                \n",
    "\n",
    "            epoch_loss = running_loss / dataset_sizes[x]\n",
    "            epoch_acc = running_corrects / dataset_sizes[x]\n",
    "            \n",
    "            print('{} Loss: {:.4f} Acc: {:.4f}'.format(x, epoch_loss, epoch_acc))\n",
    "\n",
    "            # deep copy the model\n",
    "            if x == 'validation' and epoch_acc > best_acc:\n",
    "                best_acc = epoch_acc\n",
    "                best_model_weights = model.state_dict()\n",
    "\n",
    "        print()\n",
    "\n",
    "    time_elapsed = time.time() - since\n",
    "    print('Training complete in {:.0f}m {:.0f}s'.format(time_elapsed // 60, time_elapsed % 60))\n",
    "    print('Best val Acc: {:4f}'.format(best_acc))\n",
    "\n",
    "    # load best model weights\n",
    "    model.load_state_dict(best_model_weights)\n",
    "    return model"
   ]
  },
  {
   "cell_type": "code",
   "execution_count": 16,
   "id": "567612d2",
   "metadata": {
    "execution": {
     "iopub.execute_input": "2023-06-12T13:58:50.598977Z",
     "iopub.status.busy": "2023-06-12T13:58:50.598191Z",
     "iopub.status.idle": "2023-06-12T14:07:46.001348Z",
     "shell.execute_reply": "2023-06-12T14:07:45.999541Z"
    },
    "papermill": {
     "duration": 535.413047,
     "end_time": "2023-06-12T14:07:46.003591",
     "exception": false,
     "start_time": "2023-06-12T13:58:50.590544",
     "status": "completed"
    },
    "tags": []
   },
   "outputs": [
    {
     "name": "stdout",
     "output_type": "stream",
     "text": [
      "epoch 1/6\n",
      "**********\n",
      "training Loss: 0.0024 Acc: 0.9695\n",
      "validation Loss: 0.0012 Acc: 0.9872\n",
      "\n",
      "epoch 2/6\n",
      "**********\n",
      "training Loss: 0.0010 Acc: 0.9883\n",
      "validation Loss: 0.0012 Acc: 0.9876\n",
      "\n",
      "epoch 3/6\n",
      "**********\n",
      "training Loss: 0.0006 Acc: 0.9936\n",
      "validation Loss: 0.0012 Acc: 0.9876\n",
      "\n",
      "epoch 4/6\n",
      "**********\n",
      "training Loss: 0.0004 Acc: 0.9961\n",
      "validation Loss: 0.0012 Acc: 0.9892\n",
      "\n",
      "epoch 5/6\n",
      "**********\n",
      "training Loss: 0.0002 Acc: 0.9978\n",
      "validation Loss: 0.0012 Acc: 0.9882\n",
      "\n",
      "epoch 6/6\n",
      "**********\n",
      "training Loss: 0.0002 Acc: 0.9982\n",
      "validation Loss: 0.0012 Acc: 0.9900\n",
      "\n",
      "Training complete in 8m 55s\n",
      "Best val Acc: 0.990000\n"
     ]
    }
   ],
   "source": [
    "model = train_model(model, criterion, optimizer, exp_LR_scheduler, num_epochs=6)"
   ]
  }
 ],
 "metadata": {
  "kernelspec": {
   "display_name": "Python 3",
   "language": "python",
   "name": "python3"
  },
  "language_info": {
   "codemirror_mode": {
    "name": "ipython",
    "version": 3
   },
   "file_extension": ".py",
   "mimetype": "text/x-python",
   "name": "python",
   "nbconvert_exporter": "python",
   "pygments_lexer": "ipython3",
   "version": "3.10.10"
  },
  "papermill": {
   "default_parameters": {},
   "duration": 567.344627,
   "end_time": "2023-06-12T14:07:48.038533",
   "environment_variables": {},
   "exception": null,
   "input_path": "__notebook__.ipynb",
   "output_path": "__notebook__.ipynb",
   "parameters": {},
   "start_time": "2023-06-12T13:58:20.693906",
   "version": "2.4.0"
  }
 },
 "nbformat": 4,
 "nbformat_minor": 5
}
